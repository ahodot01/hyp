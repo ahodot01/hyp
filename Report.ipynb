{
 "cells": [
  {
   "cell_type": "code",
   "execution_count": 168,
   "metadata": {
    "id": "h0LVvvnfJsg5"
   },
   "outputs": [],
   "source": [
    "# Import pandas\n",
    "\n",
    "import pandas as pd"
   ]
  },
  {
   "cell_type": "code",
   "execution_count": 169,
   "metadata": {
    "id": "rv2oLRnPK36J"
   },
   "outputs": [],
   "source": [
    "# Create a DataFrame with balance.txt\n",
    "\n",
    "df = pd.read_csv('balance.txt',sep=' ')"
   ]
  },
  {
   "cell_type": "markdown",
   "metadata": {
    "id": "_LXpBJXZLYoh"
   },
   "source": [
    "Write the code needed to produce a report that provides the following information:\n",
    "* Compare the average income based on ethnicity.\n",
    "* On average, do married or single people have a higher balance?\n",
    "* What is the highest income in our dataset?\n",
    "* What is the lowest income in our dataset?\n",
    "* How many cards do we have recorded in our dataset? (Hint: use `sum()`)\n",
    "* How many females do we have information for vs how many males? (Hint: use `count()` for a list of all methods for computation of descriptive stats, explore the [pandas documentation](https://pandas.pydata.org/pandas-docs/stable/reference/frame.html#computations-descriptive-stats)).\n",
    "\n",
    "\n"
   ]
  },
  {
   "cell_type": "code",
   "execution_count": 170,
   "metadata": {},
   "outputs": [
    {
     "name": "stdout",
     "output_type": "stream",
     "text": [
      "Average earnings for Caucasian: £44.522\n",
      "Average earnings for Asian: £44.188\n",
      "Average earnings for African American: £47.682\n"
     ]
    }
   ],
   "source": [
    "# Compare the average income based on ethnicity.\n",
    "\n",
    "for ethnicity in df['Ethnicity'].unique():\n",
    "    av_earnings = df[df['Ethnicity'] == ethnicity]['Income'].mean()\n",
    "    print(f\"Average earnings for {ethnicity}: £{av_earnings:.3f}\")\n",
    "    "
   ]
  },
  {
   "cell_type": "code",
   "execution_count": 171,
   "metadata": {},
   "outputs": [
    {
     "name": "stdout",
     "output_type": "stream",
     "text": [
      "On average, single people have a higher balance, which is £13.429\n"
     ]
    }
   ],
   "source": [
    "# On average, do married or single people have a higher balance?\n",
    "\n",
    "for option in df['Married'].unique():\n",
    "    if option == 'Yes':\n",
    "        av_mBalance = df['Balance'].mean()\n",
    "    else:\n",
    "        av_sBalance = df['Balance'].mean()\n",
    "        \n",
    "if av_mBalance > av_sBalance:\n",
    "    print(f\"On average, married people have a higher balance, which is £{av_mBalance:.3f}\")\n",
    "else:\n",
    "    print(f\"On average, single people have a higher balance, which is £{av_sBalance:.3f}\")\n",
    "    "
   ]
  },
  {
   "cell_type": "code",
   "execution_count": 172,
   "metadata": {},
   "outputs": [
    {
     "name": "stdout",
     "output_type": "stream",
     "text": [
      "Highest income in dataset is £186.634\n"
     ]
    }
   ],
   "source": [
    "# What is the highest income in our dataset?\n",
    "\n",
    "highest_income = df['Income'].max()\n",
    "print(f\"Highest income in dataset is £{highest_income}\")\n",
    "      "
   ]
  },
  {
   "cell_type": "code",
   "execution_count": 173,
   "metadata": {},
   "outputs": [
    {
     "name": "stdout",
     "output_type": "stream",
     "text": [
      "Lowest income in dataset is £10.354\n"
     ]
    }
   ],
   "source": [
    "# What is the lowest income in our dataset?\n",
    "\n",
    "lowest_income = df['Income'].min()\n",
    "print(f\"Lowest income in dataset is £{lowest_income}\")\n"
   ]
  },
  {
   "cell_type": "code",
   "execution_count": 183,
   "metadata": {},
   "outputs": [
    {
     "name": "stdout",
     "output_type": "stream",
     "text": [
      "We have 400 cards recorded in our dataset.\n",
      "We have 400 cards recorded in our dataset.\n"
     ]
    }
   ],
   "source": [
    "# How many cards do we have recorded in our dataset? (Hint: use sum())\n",
    "\n",
    "# option 1:\n",
    "\n",
    "# Variable can be any column. In this case 'Balance'. \n",
    "# As a single \"card recorded in dataset\" I understood as a single row.\n",
    "\n",
    "cards_sum1 = df['Balance'].count()\n",
    "print(f\"We have {cards_sum1} cards recorded in our dataset.\")\n",
    "\n",
    "# option 2:\n",
    "counter=0\n",
    "for item in df.index:\n",
    "    counter+=1\n",
    "cards_sum2 = counter\n",
    "print(f\"We have {cards_sum2} cards recorded in our dataset.\")\n",
    "\n",
    "# Was unable to do task using sum(). Waiting for feedback and possible help.\n"
   ]
  },
  {
   "cell_type": "code",
   "execution_count": 191,
   "metadata": {},
   "outputs": [
    {
     "name": "stdout",
     "output_type": "stream",
     "text": [
      "We have information for 207 females and 193 males.\n"
     ]
    }
   ],
   "source": [
    "# How many females do we have information for vs how many males? \n",
    "# (Hint: use count() for a list of all methods for computation \n",
    "# of descriptive stats, explore the pandas documentation).\n",
    "\n",
    "females_count = df[df.Gender == 'Female'].loc[:,\"Gender\"].count()\n",
    "males_count = df[df.Gender == 'Male'].loc[:,\"Gender\"].count()\n",
    "print(f\"We have information for {females_count} females and {males_count} males.\")\n"
   ]
  },
  {
   "cell_type": "code",
   "execution_count": null,
   "metadata": {},
   "outputs": [],
   "source": []
  }
 ],
 "metadata": {
  "colab": {
   "provenance": []
  },
  "kernelspec": {
   "display_name": "Python 3 (ipykernel)",
   "language": "python",
   "name": "python3"
  },
  "language_info": {
   "codemirror_mode": {
    "name": "ipython",
    "version": 3
   },
   "file_extension": ".py",
   "mimetype": "text/x-python",
   "name": "python",
   "nbconvert_exporter": "python",
   "pygments_lexer": "ipython3",
   "version": "3.9.13"
  }
 },
 "nbformat": 4,
 "nbformat_minor": 1
}
